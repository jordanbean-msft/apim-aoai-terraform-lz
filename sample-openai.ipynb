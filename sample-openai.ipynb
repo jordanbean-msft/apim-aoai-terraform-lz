{
 "cells": [
  {
   "cell_type": "code",
   "execution_count": 5,
   "metadata": {},
   "outputs": [
    {
     "name": "stdout",
     "output_type": "stream",
     "text": [
      "Overwriting requirements.txt\n"
     ]
    }
   ],
   "source": [
    "%%writefile requirements.txt\n",
    "\n",
    "openai==1.42.0\n",
    "azure-identity==1.17.1"
   ]
  },
  {
   "cell_type": "code",
   "execution_count": 6,
   "metadata": {},
   "outputs": [
    {
     "name": "stdout",
     "output_type": "stream",
     "text": [
      "Looking in links: c:\\Users\\JORDAN~1\\AppData\\Local\\Temp\\tmp5b5fyj3p\n",
      "Requirement already satisfied: pip in c:\\python312\\lib\\site-packages (24.0)\n",
      "Requirement already satisfied: openai==1.42.0 in c:\\users\\jordanbean\\appdata\\roaming\\python\\python312\\site-packages (from -r requirements.txt (line 2)) (1.42.0)\n",
      "Requirement already satisfied: azure-identity==1.17.1 in c:\\users\\jordanbean\\appdata\\roaming\\python\\python312\\site-packages (from -r requirements.txt (line 3)) (1.17.1)\n",
      "Requirement already satisfied: anyio<5,>=3.5.0 in c:\\python312\\lib\\site-packages (from openai==1.42.0->-r requirements.txt (line 2)) (4.3.0)\n",
      "Requirement already satisfied: distro<2,>=1.7.0 in c:\\python312\\lib\\site-packages (from openai==1.42.0->-r requirements.txt (line 2)) (1.9.0)\n",
      "Requirement already satisfied: httpx<1,>=0.23.0 in c:\\python312\\lib\\site-packages (from openai==1.42.0->-r requirements.txt (line 2)) (0.27.0)\n",
      "Requirement already satisfied: jiter<1,>=0.4.0 in c:\\python312\\lib\\site-packages (from openai==1.42.0->-r requirements.txt (line 2)) (0.5.0)\n",
      "Requirement already satisfied: pydantic<3,>=1.9.0 in c:\\python312\\lib\\site-packages (from openai==1.42.0->-r requirements.txt (line 2)) (2.7.1)\n",
      "Requirement already satisfied: sniffio in c:\\python312\\lib\\site-packages (from openai==1.42.0->-r requirements.txt (line 2)) (1.3.1)\n",
      "Requirement already satisfied: tqdm>4 in c:\\python312\\lib\\site-packages (from openai==1.42.0->-r requirements.txt (line 2)) (4.66.4)\n",
      "Requirement already satisfied: typing-extensions<5,>=4.11 in c:\\python312\\lib\\site-packages (from openai==1.42.0->-r requirements.txt (line 2)) (4.11.0)\n",
      "Requirement already satisfied: azure-core>=1.23.0 in c:\\python312\\lib\\site-packages (from azure-identity==1.17.1->-r requirements.txt (line 3)) (1.30.1)\n",
      "Requirement already satisfied: cryptography>=2.5 in c:\\python312\\lib\\site-packages (from azure-identity==1.17.1->-r requirements.txt (line 3)) (43.0.0)\n",
      "Requirement already satisfied: msal>=1.24.0 in c:\\users\\jordanbean\\appdata\\roaming\\python\\python312\\site-packages (from azure-identity==1.17.1->-r requirements.txt (line 3)) (1.30.0)\n",
      "Requirement already satisfied: msal-extensions>=0.3.0 in c:\\users\\jordanbean\\appdata\\roaming\\python\\python312\\site-packages (from azure-identity==1.17.1->-r requirements.txt (line 3)) (1.2.0)\n",
      "Requirement already satisfied: idna>=2.8 in c:\\python312\\lib\\site-packages (from anyio<5,>=3.5.0->openai==1.42.0->-r requirements.txt (line 2)) (3.7)\n",
      "Requirement already satisfied: requests>=2.21.0 in c:\\python312\\lib\\site-packages (from azure-core>=1.23.0->azure-identity==1.17.1->-r requirements.txt (line 3)) (2.31.0)\n",
      "Requirement already satisfied: six>=1.11.0 in c:\\python312\\lib\\site-packages (from azure-core>=1.23.0->azure-identity==1.17.1->-r requirements.txt (line 3)) (1.16.0)\n",
      "Requirement already satisfied: cffi>=1.12 in c:\\python312\\lib\\site-packages (from cryptography>=2.5->azure-identity==1.17.1->-r requirements.txt (line 3)) (1.16.0)\n",
      "Requirement already satisfied: certifi in c:\\python312\\lib\\site-packages (from httpx<1,>=0.23.0->openai==1.42.0->-r requirements.txt (line 2)) (2024.2.2)\n",
      "Requirement already satisfied: httpcore==1.* in c:\\python312\\lib\\site-packages (from httpx<1,>=0.23.0->openai==1.42.0->-r requirements.txt (line 2)) (1.0.5)\n",
      "Requirement already satisfied: h11<0.15,>=0.13 in c:\\python312\\lib\\site-packages (from httpcore==1.*->httpx<1,>=0.23.0->openai==1.42.0->-r requirements.txt (line 2)) (0.14.0)\n",
      "Requirement already satisfied: PyJWT<3,>=1.0.0 in c:\\python312\\lib\\site-packages (from PyJWT[crypto]<3,>=1.0.0->msal>=1.24.0->azure-identity==1.17.1->-r requirements.txt (line 3)) (2.9.0)\n",
      "Requirement already satisfied: portalocker<3,>=1.4 in c:\\python312\\lib\\site-packages (from msal-extensions>=0.3.0->azure-identity==1.17.1->-r requirements.txt (line 3)) (2.10.1)\n",
      "Requirement already satisfied: annotated-types>=0.4.0 in c:\\python312\\lib\\site-packages (from pydantic<3,>=1.9.0->openai==1.42.0->-r requirements.txt (line 2)) (0.6.0)\n",
      "Requirement already satisfied: pydantic-core==2.18.2 in c:\\python312\\lib\\site-packages (from pydantic<3,>=1.9.0->openai==1.42.0->-r requirements.txt (line 2)) (2.18.2)\n",
      "Requirement already satisfied: colorama in c:\\python312\\lib\\site-packages (from tqdm>4->openai==1.42.0->-r requirements.txt (line 2)) (0.4.6)\n",
      "Requirement already satisfied: pycparser in c:\\python312\\lib\\site-packages (from cffi>=1.12->cryptography>=2.5->azure-identity==1.17.1->-r requirements.txt (line 3)) (2.22)\n",
      "Requirement already satisfied: pywin32>=226 in c:\\python312\\lib\\site-packages (from portalocker<3,>=1.4->msal-extensions>=0.3.0->azure-identity==1.17.1->-r requirements.txt (line 3)) (306)\n",
      "Requirement already satisfied: charset-normalizer<4,>=2 in c:\\python312\\lib\\site-packages (from requests>=2.21.0->azure-core>=1.23.0->azure-identity==1.17.1->-r requirements.txt (line 3)) (3.3.2)\n",
      "Requirement already satisfied: urllib3<3,>=1.21.1 in c:\\python312\\lib\\site-packages (from requests>=2.21.0->azure-core>=1.23.0->azure-identity==1.17.1->-r requirements.txt (line 3)) (2.2.1)\n",
      "Note: you may need to restart the kernel to use updated packages.\n"
     ]
    }
   ],
   "source": [
    "!python -m ensurepip --upgrade --user\n",
    "\n",
    "%pip install -r requirements.txt --user"
   ]
  },
  {
   "cell_type": "code",
   "execution_count": 8,
   "metadata": {},
   "outputs": [],
   "source": [
    "tenant_id = \"\"\n",
    "client_id = \"\"\n",
    "apim_name = \"\"\n",
    "apim_subscription_key = \"\"\n",
    "openai_client_id = \"\"\n",
    "openai_api_version = \"2024-06-01\"\n",
    "chat_deployment_name = \"gpt-4o-2024-05-13\"\n",
    "embedding_deployment_name = \"text-embedding-3-large-1\""
   ]
  },
  {
   "cell_type": "code",
   "execution_count": 9,
   "metadata": {},
   "outputs": [
    {
     "name": "stdout",
     "output_type": "stream",
     "text": [
      "{\n",
      "  \"id\": \"chatcmpl-A0YTdu06mbYCYrwvMsP2RBsZyIUZO\",\n",
      "  \"choices\": [\n",
      "    {\n",
      "      \"finish_reason\": \"stop\",\n",
      "      \"index\": 0,\n",
      "      \"logprobs\": null,\n",
      "      \"message\": {\n",
      "        \"content\": \"Hi there! How can I assist you today?\",\n",
      "        \"role\": \"assistant\"\n",
      "      },\n",
      "      \"content_filter_results\": {\n",
      "        \"hate\": {\n",
      "          \"filtered\": false,\n",
      "          \"severity\": \"safe\"\n",
      "        },\n",
      "        \"protected_material_code\": {\n",
      "          \"filtered\": false,\n",
      "          \"detected\": false\n",
      "        },\n",
      "        \"protected_material_text\": {\n",
      "          \"filtered\": false,\n",
      "          \"detected\": false\n",
      "        },\n",
      "        \"self_harm\": {\n",
      "          \"filtered\": false,\n",
      "          \"severity\": \"safe\"\n",
      "        },\n",
      "        \"sexual\": {\n",
      "          \"filtered\": false,\n",
      "          \"severity\": \"safe\"\n",
      "        },\n",
      "        \"violence\": {\n",
      "          \"filtered\": false,\n",
      "          \"severity\": \"safe\"\n",
      "        }\n",
      "      }\n",
      "    }\n",
      "  ],\n",
      "  \"created\": 1724695893,\n",
      "  \"model\": \"gpt-4o-2024-05-13\",\n",
      "  \"object\": \"chat.completion\",\n",
      "  \"system_fingerprint\": \"fp_80a1bad4c7\",\n",
      "  \"usage\": {\n",
      "    \"completion_tokens\": 10,\n",
      "    \"prompt_tokens\": 9,\n",
      "    \"total_tokens\": 19\n",
      "  },\n",
      "  \"prompt_filter_results\": [\n",
      "    {\n",
      "      \"prompt_index\": 0,\n",
      "      \"content_filter_results\": {\n",
      "        \"hate\": {\n",
      "          \"filtered\": false,\n",
      "          \"severity\": \"safe\"\n",
      "        },\n",
      "        \"jailbreak\": {\n",
      "          \"filtered\": false,\n",
      "          \"detected\": false\n",
      "        },\n",
      "        \"self_harm\": {\n",
      "          \"filtered\": false,\n",
      "          \"severity\": \"safe\"\n",
      "        },\n",
      "        \"sexual\": {\n",
      "          \"filtered\": false,\n",
      "          \"severity\": \"safe\"\n",
      "        },\n",
      "        \"violence\": {\n",
      "          \"filtered\": false,\n",
      "          \"severity\": \"safe\"\n",
      "        }\n",
      "      }\n",
      "    }\n",
      "  ]\n",
      "}\n"
     ]
    }
   ],
   "source": [
    "from openai import AzureOpenAI\n",
    "from azure.identity import DefaultAzureCredential, InteractiveBrowserCredential, get_bearer_token_provider\n",
    "\n",
    "#this example uses an app registration with the \"Mobile and desktop applications\" redirect URI set to \"http://localhost:8000\"\n",
    "credential = InteractiveBrowserCredential(\n",
    "   tenant_id=tenant_id,\n",
    "   client_id=client_id,\n",
    "   redirect_uri=\"http://localhost:8000\")\n",
    "\n",
    "token_provider = get_bearer_token_provider(credential, f\"api://{openai_client_id}//user_impersonation\")\n",
    "\n",
    "client = AzureOpenAI(\n",
    "    api_version=openai_api_version,\n",
    "    azure_endpoint=\"https://\" + apim_name + \".azure-api.net\",\n",
    "    azure_ad_token_provider=token_provider,\n",
    "    default_headers={\"Ocp-Apim-Subscription-Key\": apim_subscription_key}\n",
    ")\n",
    "\n",
    "response = client.chat.completions.create(\n",
    "    model=chat_deployment_name,\n",
    "    messages=[\n",
    "        {\n",
    "            \"role\": \"user\",\n",
    "            \"content\": \"Hello!\"\n",
    "        }\n",
    "    ]\n",
    ")\n",
    "\n",
    "print(response.to_json())"
   ]
  }
 ],
 "metadata": {
  "kernelspec": {
   "display_name": "Python 3",
   "language": "python",
   "name": "python3"
  },
  "language_info": {
   "codemirror_mode": {
    "name": "ipython",
    "version": 3
   },
   "file_extension": ".py",
   "mimetype": "text/x-python",
   "name": "python",
   "nbconvert_exporter": "python",
   "pygments_lexer": "ipython3",
   "version": "3.12.4"
  }
 },
 "nbformat": 4,
 "nbformat_minor": 2
}
